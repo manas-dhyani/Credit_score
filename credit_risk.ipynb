{
 "cells": [
  {
   "cell_type": "code",
   "execution_count": 1,
   "id": "f26e1d46-5089-4720-a601-fa33c0da6626",
   "metadata": {},
   "outputs": [
    {
     "data": {
      "text/plain": [
       "(1000, 27)"
      ]
     },
     "execution_count": 1,
     "metadata": {},
     "output_type": "execute_result"
    }
   ],
   "source": [
    "import pandas as pd\n",
    "import os\n",
    "LR_DF = pd.read_csv(\"credit_risk_scorecard_with_target.csv\")\n",
    "LR_DF.shape"
   ]
  },
  {
   "cell_type": "code",
   "execution_count": 3,
   "id": "582781c6-4555-46fe-a637-ee3f9663b775",
   "metadata": {},
   "outputs": [
    {
     "data": {
      "text/plain": [
       "<bound method NDFrame.head of      prospect_no loan_disb_date  asset_cost   disb_date  down_payment    roi  \\\n",
       "0         174191     2021-03-17      553944  2023-11-09        127718   7.20   \n",
       "1         923462     2022-05-10      550600  2023-04-07         89093  13.88   \n",
       "2         763054     2022-12-31      434542  2022-06-03        167563  14.33   \n",
       "3         556350     2023-04-29      707205  2022-10-02        141018   7.17   \n",
       "4         433040     2021-02-08      636602  2024-06-17         97419  10.46   \n",
       "..           ...            ...         ...         ...           ...    ...   \n",
       "995       679082     2020-06-05      570061  2024-08-24        125163   6.36   \n",
       "996       778057     2023-04-07      645410  2020-06-29        137861  14.35   \n",
       "997       271530     2023-06-22      839371  2022-10-09         99147   5.19   \n",
       "998       931372     2024-02-12      655002  2024-02-08        161001  12.92   \n",
       "999       492996     2024-08-05      297541  2021-08-18        182487   8.82   \n",
       "\n",
       "     age  is_exist_cust  dist_from_off  is_expat  ...    locality  \\\n",
       "0     57              1          13.53         1  ...       Urban   \n",
       "1     28              1          42.71         0  ...  Semi-Urban   \n",
       "2     61              0           6.05         0  ...  Semi-Urban   \n",
       "3     42              0          45.53         0  ...       Rural   \n",
       "4     18              0          44.57         1  ...       Rural   \n",
       "..   ...            ...            ...       ...  ...         ...   \n",
       "995   55              0           8.58         1  ...  Semi-Urban   \n",
       "996   21              0           2.97         0  ...       Rural   \n",
       "997   34              1          18.33         0  ...       Rural   \n",
       "998   69              0          41.79         0  ...       Urban   \n",
       "999   26              0          28.28         1  ...  Semi-Urban   \n",
       "\n",
       "     accommodation_type  current_residence veh_own   foir tenure  \\\n",
       "0               Parents              House       1  59.32     91   \n",
       "1               Parents             Shared       0  60.00     64   \n",
       "2                 Owned          Apartment       0  20.15    192   \n",
       "3               Parents             Shared       1  29.53    150   \n",
       "4                Rented          Apartment       0  55.81     30   \n",
       "..                  ...                ...     ...    ...    ...   \n",
       "995             Parents              House       0  46.44    139   \n",
       "996             Parents          Apartment       1  26.76    187   \n",
       "997              Rented             Shared       1  34.69     83   \n",
       "998             Parents              House       1  49.66    207   \n",
       "999             Parents             Shared       1  59.38    143   \n",
       "\n",
       "    vin_in_business   itv  itvg target  \n",
       "0                22  9.84  3.03      0  \n",
       "1                17  8.93  4.61      0  \n",
       "2                 6  8.00  1.04      0  \n",
       "3                 9  6.44  0.44      1  \n",
       "4                23  9.69  3.34      0  \n",
       "..              ...   ...   ...    ...  \n",
       "995               3  6.88  2.84      0  \n",
       "996               2  2.92  4.62      0  \n",
       "997              17  6.31  1.32      1  \n",
       "998               8  7.23  0.66      0  \n",
       "999               2  8.45  1.14      0  \n",
       "\n",
       "[1000 rows x 27 columns]>"
      ]
     },
     "execution_count": 3,
     "metadata": {},
     "output_type": "execute_result"
    }
   ],
   "source": [
    "LR_DF.head"
   ]
  },
  {
   "cell_type": "markdown",
   "id": "1eece4d3-aef4-4123-8b3e-3b27da4b90c2",
   "metadata": {},
   "source": [
    "<h3>Train-Test</h3>"
   ]
  },
  {
   "cell_type": "markdown",
   "id": "5ad85fea-8541-4bc4-8f77-a8cf5d5dcc1f",
   "metadata": {},
   "source": [
    "#### development - validation and hold-out\n"
   ]
  },
  {
   "cell_type": "code",
   "execution_count": 8,
   "id": "04b61389-65a0-4718-9e9a-3b12b3b731cb",
   "metadata": {},
   "outputs": [
    {
     "name": "stderr",
     "output_type": "stream",
     "text": [
      "/opt/conda/envs/anaconda-2024.02-py310/lib/python3.10/site-packages/numpy/core/fromnumeric.py:59: FutureWarning: 'DataFrame.swapaxes' is deprecated and will be removed in a future version. Please use 'DataFrame.transpose' instead.\n",
      "  return bound(*args, **kwds)\n"
     ]
    },
    {
     "data": {
      "text/plain": [
       "(500, 300, 200)"
      ]
     },
     "execution_count": 8,
     "metadata": {},
     "output_type": "execute_result"
    }
   ],
   "source": [
    "import numpy as np\n",
    "\n",
    "dev, val, holdout = np.split(LR_DF.sample(frac = 1, random_state=1212),[int(.5*len(LR_DF)),\n",
    "                    int(.8*len(LR_DF))])\n",
    "(len(dev),len(val),len(holdout))"
   ]
  },
  {
   "cell_type": "code",
   "execution_count": 10,
   "id": "0bfb6111-c5d5-4003-9e04-c266bad50667",
   "metadata": {},
   "outputs": [
    {
     "name": "stdout",
     "output_type": "stream",
     "text": [
      "polpulation Default Rate :  16.7 %\n",
      "devlopment sample Default Rate :  17.0 %\n",
      "validation sample Default Rate :  17.0 %\n",
      "hold-out sample Default Rate :  15.5 %\n"
     ]
    }
   ],
   "source": [
    "print(\"polpulation Default Rate : \", round(sum(LR_DF.target)*100/len(LR_DF),2),\"%\")\n",
    "print(\"devlopment sample Default Rate : \", round(sum(dev.target)*100/len(dev),2),\"%\")\n",
    "print(\"validation sample Default Rate : \", round(sum(val.target)*100/len(val),2),\"%\")\n",
    "print(\"hold-out sample Default Rate : \", round(sum(holdout.target)*100/len(holdout),2),\"%\")"
   ]
  },
  {
   "cell_type": "markdown",
   "id": "64b2c51f-7c64-4718-b4f2-76bc2ef6c2c6",
   "metadata": {},
   "source": [
    "### Single Variable Logistic Regression Model"
   ]
  },
  {
   "cell_type": "code",
   "execution_count": 13,
   "id": "4f30f1e2-1268-4b89-8692-93f32d3d0f20",
   "metadata": {
    "editable": true,
    "slideshow": {
     "slide_type": ""
    },
    "tags": []
   },
   "outputs": [
    {
     "data": {
      "text/html": [
       "<table class=\"simpletable\">\n",
       "<caption>Generalized Linear Model Regression Results</caption>\n",
       "<tr>\n",
       "  <th>Dep. Variable:</th>        <td>target</td>      <th>  No. Observations:  </th>  <td>  1000</td>  \n",
       "</tr>\n",
       "<tr>\n",
       "  <th>Model:</th>                  <td>GLM</td>       <th>  Df Residuals:      </th>  <td>   997</td>  \n",
       "</tr>\n",
       "<tr>\n",
       "  <th>Model Family:</th>        <td>Binomial</td>     <th>  Df Model:          </th>  <td>     2</td>  \n",
       "</tr>\n",
       "<tr>\n",
       "  <th>Link Function:</th>         <td>Logit</td>      <th>  Scale:             </th> <td>  1.0000</td> \n",
       "</tr>\n",
       "<tr>\n",
       "  <th>Method:</th>                <td>IRLS</td>       <th>  Log-Likelihood:    </th> <td> -450.96</td> \n",
       "</tr>\n",
       "<tr>\n",
       "  <th>Date:</th>            <td>Mon, 13 Jan 2025</td> <th>  Deviance:          </th> <td>  901.93</td> \n",
       "</tr>\n",
       "<tr>\n",
       "  <th>Time:</th>                <td>16:17:49</td>     <th>  Pearson chi2:      </th> <td>1.00e+03</td> \n",
       "</tr>\n",
       "<tr>\n",
       "  <th>No. Iterations:</th>          <td>4</td>        <th>  Pseudo R-squ. (CS):</th> <td>0.0002675</td>\n",
       "</tr>\n",
       "<tr>\n",
       "  <th>Covariance Type:</th>     <td>nonrobust</td>    <th>                     </th>     <td> </td>    \n",
       "</tr>\n",
       "</table>\n",
       "<table class=\"simpletable\">\n",
       "<tr>\n",
       "         <td></td>            <th>coef</th>     <th>std err</th>      <th>z</th>      <th>P>|z|</th>  <th>[0.025</th>    <th>0.975]</th>  \n",
       "</tr>\n",
       "<tr>\n",
       "  <th>Intercept</th>       <td>   -1.5476</td> <td>    0.142</td> <td>  -10.885</td> <td> 0.000</td> <td>   -1.826</td> <td>   -1.269</td>\n",
       "</tr>\n",
       "<tr>\n",
       "  <th>gender[T.Male]</th>  <td>   -0.0851</td> <td>    0.209</td> <td>   -0.407</td> <td> 0.684</td> <td>   -0.495</td> <td>    0.324</td>\n",
       "</tr>\n",
       "<tr>\n",
       "  <th>gender[T.Other]</th> <td>   -0.0970</td> <td>    0.204</td> <td>   -0.476</td> <td> 0.634</td> <td>   -0.496</td> <td>    0.302</td>\n",
       "</tr>\n",
       "</table>"
      ],
      "text/latex": [
       "\\begin{center}\n",
       "\\begin{tabular}{lclc}\n",
       "\\toprule\n",
       "\\textbf{Dep. Variable:}   &      target      & \\textbf{  No. Observations:  } &     1000    \\\\\n",
       "\\textbf{Model:}           &       GLM        & \\textbf{  Df Residuals:      } &      997    \\\\\n",
       "\\textbf{Model Family:}    &     Binomial     & \\textbf{  Df Model:          } &        2    \\\\\n",
       "\\textbf{Link Function:}   &      Logit       & \\textbf{  Scale:             } &    1.0000   \\\\\n",
       "\\textbf{Method:}          &       IRLS       & \\textbf{  Log-Likelihood:    } &   -450.96   \\\\\n",
       "\\textbf{Date:}            & Mon, 13 Jan 2025 & \\textbf{  Deviance:          } &    901.93   \\\\\n",
       "\\textbf{Time:}            &     16:17:49     & \\textbf{  Pearson chi2:      } &  1.00e+03   \\\\\n",
       "\\textbf{No. Iterations:}  &        4         & \\textbf{  Pseudo R-squ. (CS):} & 0.0002675   \\\\\n",
       "\\textbf{Covariance Type:} &    nonrobust     & \\textbf{                     } &             \\\\\n",
       "\\bottomrule\n",
       "\\end{tabular}\n",
       "\\begin{tabular}{lcccccc}\n",
       "                         & \\textbf{coef} & \\textbf{std err} & \\textbf{z} & \\textbf{P$> |$z$|$} & \\textbf{[0.025} & \\textbf{0.975]}  \\\\\n",
       "\\midrule\n",
       "\\textbf{Intercept}       &      -1.5476  &        0.142     &   -10.885  &         0.000        &       -1.826    &       -1.269     \\\\\n",
       "\\textbf{gender[T.Male]}  &      -0.0851  &        0.209     &    -0.407  &         0.684        &       -0.495    &        0.324     \\\\\n",
       "\\textbf{gender[T.Other]} &      -0.0970  &        0.204     &    -0.476  &         0.634        &       -0.496    &        0.302     \\\\\n",
       "\\bottomrule\n",
       "\\end{tabular}\n",
       "%\\caption{Generalized Linear Model Regression Results}\n",
       "\\end{center}"
      ],
      "text/plain": [
       "<class 'statsmodels.iolib.summary.Summary'>\n",
       "\"\"\"\n",
       "                 Generalized Linear Model Regression Results                  \n",
       "==============================================================================\n",
       "Dep. Variable:                 target   No. Observations:                 1000\n",
       "Model:                            GLM   Df Residuals:                      997\n",
       "Model Family:                Binomial   Df Model:                            2\n",
       "Link Function:                  Logit   Scale:                          1.0000\n",
       "Method:                          IRLS   Log-Likelihood:                -450.96\n",
       "Date:                Mon, 13 Jan 2025   Deviance:                       901.93\n",
       "Time:                        16:17:49   Pearson chi2:                 1.00e+03\n",
       "No. Iterations:                     4   Pseudo R-squ. (CS):          0.0002675\n",
       "Covariance Type:            nonrobust                                         \n",
       "===================================================================================\n",
       "                      coef    std err          z      P>|z|      [0.025      0.975]\n",
       "-----------------------------------------------------------------------------------\n",
       "Intercept          -1.5476      0.142    -10.885      0.000      -1.826      -1.269\n",
       "gender[T.Male]     -0.0851      0.209     -0.407      0.684      -0.495       0.324\n",
       "gender[T.Other]    -0.0970      0.204     -0.476      0.634      -0.496       0.302\n",
       "===================================================================================\n",
       "\"\"\""
      ]
     },
     "execution_count": 13,
     "metadata": {},
     "output_type": "execute_result"
    }
   ],
   "source": [
    "import statsmodels.formula.api as sm\n",
    "import statsmodels.api as sma\n",
    "## running one variable logistic regression \n",
    "## glm stands for generalized Linear Model\n",
    "\n",
    "mylogit = sm.glm(\n",
    "    formula = \"target ~ gender\", data = LR_DF,\n",
    "    family = sma.families.Binomial()\n",
    ").fit()\n",
    "\n",
    "mylogit.summary()"
   ]
  },
  {
   "cell_type": "code",
   "execution_count": null,
   "id": "3926dddc-122f-48b0-99a8-4d15a1e133c5",
   "metadata": {},
   "outputs": [],
   "source": []
  }
 ],
 "metadata": {
  "kernelspec": {
   "display_name": "anaconda-2024.02-py310",
   "language": "python",
   "name": "conda-env-anaconda-2024.02-py310-py"
  },
  "language_info": {
   "codemirror_mode": {
    "name": "ipython",
    "version": 3
   },
   "file_extension": ".py",
   "mimetype": "text/x-python",
   "name": "python",
   "nbconvert_exporter": "python",
   "pygments_lexer": "ipython3",
   "version": "3.10.14"
  }
 },
 "nbformat": 4,
 "nbformat_minor": 5
}
